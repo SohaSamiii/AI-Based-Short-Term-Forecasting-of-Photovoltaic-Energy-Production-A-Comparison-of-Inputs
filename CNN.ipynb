{
  "nbformat": 4,
  "nbformat_minor": 0,
  "metadata": {
    "colab": {
      "provenance": []
    },
    "kernelspec": {
      "name": "python3",
      "display_name": "Python 3"
    },
    "language_info": {
      "name": "python"
    }
  },
  "cells": [
    {
      "cell_type": "code",
      "execution_count": null,
      "metadata": {
        "id": "bbESY7R3dy2p"
      },
      "outputs": [],
      "source": [
        "import pandas as pd"
      ]
    },
    {
      "cell_type": "code",
      "source": [
        "df = pd.read_csv('paper_data.csv')"
      ],
      "metadata": {
        "id": "5PqlL5fjd20r"
      },
      "execution_count": null,
      "outputs": []
    },
    {
      "cell_type": "code",
      "source": [
        "import numpy as np\n",
        "import pandas as pd\n",
        "from sklearn.preprocessing import MinMaxScaler\n",
        "from sklearn.model_selection import train_test_split\n",
        "from tensorflow.keras.models import Sequential\n",
        "from tensorflow.keras.layers import Conv1D, MaxPooling1D, Flatten, Dense, Dropout\n",
        "from sklearn.metrics import mean_absolute_error, mean_squared_error, r2_score\n",
        "\n",
        "\n",
        "scaler = MinMaxScaler()\n",
        "scaled_df = scaler.fit_transform(df[['PV generation','day_length','sunrise_seconds',\n",
        "                                              'sunset_seconds','hour_cos','hour_sin','solar_angle']])\n",
        "\n",
        "scaled_df = pd.DataFrame(scaled_df, columns=['PV generation','day_length','sunrise_seconds',\n",
        "                                             'sunset_seconds','hour_cos','hour_sin','solar_angle'])\n",
        "\n",
        "\n",
        "def create_sequences(df, seq_length):\n",
        "    sequences = []\n",
        "    labels = []\n",
        "    for i in range(len(df) - seq_length):\n",
        "        seq = df.iloc[i:i+seq_length].values\n",
        "        label = df['PV generation'].iloc[i+seq_length]\n",
        "        sequences.append(seq)\n",
        "        labels.append(label)\n",
        "    return np.array(sequences), np.array(labels)\n",
        "\n",
        "SEQ_LENGTH = 24\n",
        "sequences, labels = create_sequences(scaled_df, SEQ_LENGTH)\n",
        "\n",
        "\n",
        "X = sequences.reshape(sequences.shape[0], sequences.shape[1], sequences.shape[2])\n",
        "\n",
        "\n",
        "X_train, X_test, y_train, y_test = train_test_split(X, labels, test_size=0.2, shuffle=False)\n",
        "\n",
        "\n",
        "model = Sequential([\n",
        "    Conv1D(64, kernel_size=3, activation='relu', input_shape=(SEQ_LENGTH, X_train.shape[2])),\n",
        "    MaxPooling1D(pool_size=2),\n",
        "    Dropout(0.2),\n",
        "    Conv1D(64, kernel_size=3, activation='relu'),\n",
        "    MaxPooling1D(pool_size=2),\n",
        "    Dropout(0.2),\n",
        "    Flatten(),\n",
        "    Dense(1)\n",
        "])\n",
        "\n",
        "model.compile(optimizer='adam', loss='mean_squared_error')\n",
        "\n",
        "\n",
        "history = model.fit(X_train, y_train, epochs=30, batch_size=32, validation_split=0.2)\n",
        "\n",
        "\n",
        "predictions_test = model.predict(X_test)\n",
        "predictions_train = model.predict(X_train)\n",
        "\n",
        "\n",
        "r2_test = r2_score(y_test, predictions_test)\n",
        "mae_test = mean_absolute_error(y_test, predictions_test)\n",
        "mse_test = mean_squared_error(y_test, predictions_test)\n",
        "rmse_test = np.sqrt(mse_test)\n",
        "\n",
        "\n",
        "r2_train = r2_score(y_train, predictions_train)\n",
        "mae_train = mean_absolute_error(y_train, predictions_train)\n",
        "mse_train = mean_squared_error(y_train, predictions_train)\n",
        "rmse_train = np.sqrt(mse_train)\n",
        "\n",
        "\n",
        "print(f'--- Test Data ---')\n",
        "print(f'R² Score: {r2_test}')\n",
        "print(f'Mean Absolute Error (MAE): {mae_test}')\n",
        "print(f'Mean Squared Error (MSE): {mse_test}')\n",
        "print(f'Root Mean Squared Error (RMSE): {rmse_test}')\n",
        "\n",
        "\n",
        "print(f'--- Train Data ---')\n",
        "print(f'R² Score: {r2_train}')\n",
        "print(f'Mean Absolute Error (MAE): {mae_train}')\n",
        "print(f'Mean Squared Error (MSE): {mse_train}')\n",
        "print(f'Root Mean Squared Error (RMSE): {rmse_train}')\n"
      ],
      "metadata": {
        "colab": {
          "base_uri": "https://localhost:8080/"
        },
        "id": "8ypPgzuRlcud",
        "outputId": "97fbc399-9e3b-4ea3-ea20-73261991a5c7"
      },
      "execution_count": null,
      "outputs": [
        {
          "output_type": "stream",
          "name": "stderr",
          "text": [
            "/usr/local/lib/python3.10/dist-packages/keras/src/layers/convolutional/base_conv.py:107: UserWarning: Do not pass an `input_shape`/`input_dim` argument to a layer. When using Sequential models, prefer using an `Input(shape)` object as the first layer in the model instead.\n",
            "  super().__init__(activity_regularizer=activity_regularizer, **kwargs)\n"
          ]
        },
        {
          "output_type": "stream",
          "name": "stdout",
          "text": [
            "Epoch 1/30\n",
            "\u001b[1m238/238\u001b[0m \u001b[32m━━━━━━━━━━━━━━━━━━━━\u001b[0m\u001b[37m\u001b[0m \u001b[1m4s\u001b[0m 11ms/step - loss: 0.0400 - val_loss: 0.0119\n",
            "Epoch 2/30\n",
            "\u001b[1m238/238\u001b[0m \u001b[32m━━━━━━━━━━━━━━━━━━━━\u001b[0m\u001b[37m\u001b[0m \u001b[1m2s\u001b[0m 8ms/step - loss: 0.0180 - val_loss: 0.0105\n",
            "Epoch 3/30\n",
            "\u001b[1m238/238\u001b[0m \u001b[32m━━━━━━━━━━━━━━━━━━━━\u001b[0m\u001b[37m\u001b[0m \u001b[1m2s\u001b[0m 5ms/step - loss: 0.0165 - val_loss: 0.0092\n",
            "Epoch 4/30\n",
            "\u001b[1m238/238\u001b[0m \u001b[32m━━━━━━━━━━━━━━━━━━━━\u001b[0m\u001b[37m\u001b[0m \u001b[1m3s\u001b[0m 6ms/step - loss: 0.0147 - val_loss: 0.0120\n",
            "Epoch 5/30\n",
            "\u001b[1m238/238\u001b[0m \u001b[32m━━━━━━━━━━━━━━━━━━━━\u001b[0m\u001b[37m\u001b[0m \u001b[1m1s\u001b[0m 6ms/step - loss: 0.0155 - val_loss: 0.0101\n",
            "Epoch 6/30\n",
            "\u001b[1m238/238\u001b[0m \u001b[32m━━━━━━━━━━━━━━━━━━━━\u001b[0m\u001b[37m\u001b[0m \u001b[1m1s\u001b[0m 5ms/step - loss: 0.0142 - val_loss: 0.0093\n",
            "Epoch 7/30\n",
            "\u001b[1m238/238\u001b[0m \u001b[32m━━━━━━━━━━━━━━━━━━━━\u001b[0m\u001b[37m\u001b[0m \u001b[1m1s\u001b[0m 5ms/step - loss: 0.0138 - val_loss: 0.0094\n",
            "Epoch 8/30\n",
            "\u001b[1m238/238\u001b[0m \u001b[32m━━━━━━━━━━━━━━━━━━━━\u001b[0m\u001b[37m\u001b[0m \u001b[1m2s\u001b[0m 8ms/step - loss: 0.0140 - val_loss: 0.0088\n",
            "Epoch 9/30\n",
            "\u001b[1m238/238\u001b[0m \u001b[32m━━━━━━━━━━━━━━━━━━━━\u001b[0m\u001b[37m\u001b[0m \u001b[1m2s\u001b[0m 7ms/step - loss: 0.0139 - val_loss: 0.0112\n",
            "Epoch 10/30\n",
            "\u001b[1m238/238\u001b[0m \u001b[32m━━━━━━━━━━━━━━━━━━━━\u001b[0m\u001b[37m\u001b[0m \u001b[1m1s\u001b[0m 5ms/step - loss: 0.0137 - val_loss: 0.0086\n",
            "Epoch 11/30\n",
            "\u001b[1m238/238\u001b[0m \u001b[32m━━━━━━━━━━━━━━━━━━━━\u001b[0m\u001b[37m\u001b[0m \u001b[1m3s\u001b[0m 5ms/step - loss: 0.0134 - val_loss: 0.0091\n",
            "Epoch 12/30\n",
            "\u001b[1m238/238\u001b[0m \u001b[32m━━━━━━━━━━━━━━━━━━━━\u001b[0m\u001b[37m\u001b[0m \u001b[1m3s\u001b[0m 5ms/step - loss: 0.0130 - val_loss: 0.0088\n",
            "Epoch 13/30\n",
            "\u001b[1m238/238\u001b[0m \u001b[32m━━━━━━━━━━━━━━━━━━━━\u001b[0m\u001b[37m\u001b[0m \u001b[1m1s\u001b[0m 5ms/step - loss: 0.0124 - val_loss: 0.0094\n",
            "Epoch 14/30\n",
            "\u001b[1m238/238\u001b[0m \u001b[32m━━━━━━━━━━━━━━━━━━━━\u001b[0m\u001b[37m\u001b[0m \u001b[1m1s\u001b[0m 6ms/step - loss: 0.0116 - val_loss: 0.0087\n",
            "Epoch 15/30\n",
            "\u001b[1m238/238\u001b[0m \u001b[32m━━━━━━━━━━━━━━━━━━━━\u001b[0m\u001b[37m\u001b[0m \u001b[1m2s\u001b[0m 9ms/step - loss: 0.0124 - val_loss: 0.0103\n",
            "Epoch 16/30\n",
            "\u001b[1m238/238\u001b[0m \u001b[32m━━━━━━━━━━━━━━━━━━━━\u001b[0m\u001b[37m\u001b[0m \u001b[1m3s\u001b[0m 9ms/step - loss: 0.0125 - val_loss: 0.0092\n",
            "Epoch 17/30\n",
            "\u001b[1m238/238\u001b[0m \u001b[32m━━━━━━━━━━━━━━━━━━━━\u001b[0m\u001b[37m\u001b[0m \u001b[1m2s\u001b[0m 9ms/step - loss: 0.0126 - val_loss: 0.0093\n",
            "Epoch 18/30\n",
            "\u001b[1m238/238\u001b[0m \u001b[32m━━━━━━━━━━━━━━━━━━━━\u001b[0m\u001b[37m\u001b[0m \u001b[1m2s\u001b[0m 5ms/step - loss: 0.0128 - val_loss: 0.0088\n",
            "Epoch 19/30\n",
            "\u001b[1m238/238\u001b[0m \u001b[32m━━━━━━━━━━━━━━━━━━━━\u001b[0m\u001b[37m\u001b[0m \u001b[1m3s\u001b[0m 5ms/step - loss: 0.0135 - val_loss: 0.0092\n",
            "Epoch 20/30\n",
            "\u001b[1m238/238\u001b[0m \u001b[32m━━━━━━━━━━━━━━━━━━━━\u001b[0m\u001b[37m\u001b[0m \u001b[1m3s\u001b[0m 5ms/step - loss: 0.0122 - val_loss: 0.0083\n",
            "Epoch 21/30\n",
            "\u001b[1m238/238\u001b[0m \u001b[32m━━━━━━━━━━━━━━━━━━━━\u001b[0m\u001b[37m\u001b[0m \u001b[1m3s\u001b[0m 7ms/step - loss: 0.0121 - val_loss: 0.0085\n",
            "Epoch 22/30\n",
            "\u001b[1m238/238\u001b[0m \u001b[32m━━━━━━━━━━━━━━━━━━━━\u001b[0m\u001b[37m\u001b[0m \u001b[1m2s\u001b[0m 9ms/step - loss: 0.0120 - val_loss: 0.0106\n",
            "Epoch 23/30\n",
            "\u001b[1m238/238\u001b[0m \u001b[32m━━━━━━━━━━━━━━━━━━━━\u001b[0m\u001b[37m\u001b[0m \u001b[1m2s\u001b[0m 6ms/step - loss: 0.0121 - val_loss: 0.0091\n",
            "Epoch 24/30\n",
            "\u001b[1m238/238\u001b[0m \u001b[32m━━━━━━━━━━━━━━━━━━━━\u001b[0m\u001b[37m\u001b[0m \u001b[1m3s\u001b[0m 6ms/step - loss: 0.0113 - val_loss: 0.0085\n",
            "Epoch 25/30\n",
            "\u001b[1m238/238\u001b[0m \u001b[32m━━━━━━━━━━━━━━━━━━━━\u001b[0m\u001b[37m\u001b[0m \u001b[1m2s\u001b[0m 5ms/step - loss: 0.0124 - val_loss: 0.0085\n",
            "Epoch 26/30\n",
            "\u001b[1m238/238\u001b[0m \u001b[32m━━━━━━━━━━━━━━━━━━━━\u001b[0m\u001b[37m\u001b[0m \u001b[1m1s\u001b[0m 6ms/step - loss: 0.0121 - val_loss: 0.0082\n",
            "Epoch 27/30\n",
            "\u001b[1m238/238\u001b[0m \u001b[32m━━━━━━━━━━━━━━━━━━━━\u001b[0m\u001b[37m\u001b[0m \u001b[1m3s\u001b[0m 8ms/step - loss: 0.0118 - val_loss: 0.0084\n",
            "Epoch 28/30\n",
            "\u001b[1m238/238\u001b[0m \u001b[32m━━━━━━━━━━━━━━━━━━━━\u001b[0m\u001b[37m\u001b[0m \u001b[1m3s\u001b[0m 8ms/step - loss: 0.0119 - val_loss: 0.0092\n",
            "Epoch 29/30\n",
            "\u001b[1m238/238\u001b[0m \u001b[32m━━━━━━━━━━━━━━━━━━━━\u001b[0m\u001b[37m\u001b[0m \u001b[1m2s\u001b[0m 5ms/step - loss: 0.0123 - val_loss: 0.0085\n",
            "Epoch 30/30\n",
            "\u001b[1m238/238\u001b[0m \u001b[32m━━━━━━━━━━━━━━━━━━━━\u001b[0m\u001b[37m\u001b[0m \u001b[1m1s\u001b[0m 6ms/step - loss: 0.0122 - val_loss: 0.0088\n",
            "\u001b[1m75/75\u001b[0m \u001b[32m━━━━━━━━━━━━━━━━━━━━\u001b[0m\u001b[37m\u001b[0m \u001b[1m0s\u001b[0m 3ms/step\n",
            "\u001b[1m297/297\u001b[0m \u001b[32m━━━━━━━━━━━━━━━━━━━━\u001b[0m\u001b[37m\u001b[0m \u001b[1m1s\u001b[0m 2ms/step\n",
            "--- Test Data ---\n",
            "R² Score: 0.6109458785203359\n",
            "Mean Absolute Error (MAE): 0.041397366405909124\n",
            "Mean Squared Error (MSE): 0.0071920070434990865\n",
            "Root Mean Squared Error (RMSE): 0.08480570171574012\n",
            "--- Train Data ---\n",
            "R² Score: 0.8182041326025111\n",
            "Mean Absolute Error (MAE): 0.055990642512531504\n",
            "Mean Squared Error (MSE): 0.010248897683359863\n",
            "Root Mean Squared Error (RMSE): 0.10123683955635845\n"
          ]
        }
      ]
    },
    {
      "cell_type": "code",
      "source": [],
      "metadata": {
        "colab": {
          "base_uri": "https://localhost:8080/"
        },
        "id": "PY3qWZLPeGCN",
        "outputId": "4e2c973d-bf6e-4954-f228-b7a58d5c45bf"
      },
      "execution_count": null,
      "outputs": [
        {
          "output_type": "stream",
          "name": "stdout",
          "text": [
            "0:\tlearn: 0.2173608\ttest: 0.1478337\tbest: 0.1478337 (0)\ttotal: 313ms\tremaining: 2m 36s\n",
            "100:\tlearn: 0.0498973\ttest: 0.0479487\tbest: 0.0479135 (96)\ttotal: 35.6s\tremaining: 2m 20s\n",
            "200:\tlearn: 0.0376468\ttest: 0.0472662\tbest: 0.0472026 (186)\ttotal: 1m 9s\tremaining: 1m 43s\n",
            "300:\tlearn: 0.0292962\ttest: 0.0473510\tbest: 0.0472026 (186)\ttotal: 1m 48s\tremaining: 1m 11s\n",
            "400:\tlearn: 0.0237281\ttest: 0.0475738\tbest: 0.0472026 (186)\ttotal: 2m 25s\tremaining: 35.9s\n",
            "499:\tlearn: 0.0195777\ttest: 0.0477438\tbest: 0.0472026 (186)\ttotal: 2m 59s\tremaining: 0us\n",
            "\n",
            "bestTest = 0.0472025601\n",
            "bestIteration = 186\n",
            "\n",
            "Shrink model to first 187 iterations.\n",
            "[LightGBM] [Info] Auto-choosing col-wise multi-threading, the overhead of testing was 0.024188 seconds.\n",
            "You can set `force_col_wise=true` to remove the overhead.\n",
            "[LightGBM] [Info] Total Bins 31489\n",
            "[LightGBM] [Info] Number of data points in the train set: 9492, number of used features: 168\n",
            "[LightGBM] [Info] Start training from score 0.139760\n",
            "--- Final Combined Model ---\n",
            "R² Score: 0.880674026792791\n",
            "Mean Absolute Error (MAE): 0.01973146130938246\n",
            "Mean Squared Error (MSE): 0.0022058453885920037\n",
            "Root Mean Squared Error (RMSE): 0.046966428314190595\n"
          ]
        }
      ]
    },
    {
      "cell_type": "code",
      "source": [
        "# پیش‌بینی‌ها از داده‌های تست\n",
        "catboost_pred_test = catboost_model.predict(X_test)\n",
        "lgbm_pred_test = lgbm_model.predict(X_test)\n",
        "\n",
        "# ترکیب پیش‌بینی‌ها (میانگین پیش‌بینی‌ها)\n",
        "final_pred_test = (catboost_pred_test + lgbm_pred_test) / 2\n",
        "\n",
        "# نمایش پیش‌بینی‌ها\n",
        "print(f\"پیش‌بینی مدل ترکیبی برای داده‌های تست: {final_pred_test}\")\n"
      ],
      "metadata": {
        "colab": {
          "base_uri": "https://localhost:8080/"
        },
        "id": "QghgJGHHfsxp",
        "outputId": "28982680-c33b-4908-a95f-a74d245bfb5c"
      },
      "execution_count": null,
      "outputs": [
        {
          "output_type": "stream",
          "name": "stdout",
          "text": [
            "پیش‌بینی مدل ترکیبی برای داده‌های تست: [0.00339536 0.00307152 0.00246038 ... 0.30059384 0.10916194 0.01260915]\n"
          ]
        }
      ]
    },
    {
      "cell_type": "code",
      "source": [],
      "metadata": {
        "colab": {
          "base_uri": "https://localhost:8080/"
        },
        "id": "1SZ4Bs_6pcvv",
        "outputId": "6ab923f0-9c3c-46b3-b60d-21a20c6e5611"
      },
      "execution_count": null,
      "outputs": [
        {
          "output_type": "stream",
          "name": "stdout",
          "text": [
            "--- Final Combined Model on Test Data ---\n",
            "R² Score: 0.880674026792791\n",
            "Mean Absolute Error (MAE): 0.01973146130938246\n",
            "Mean Squared Error (MSE): 0.0022058453885920037\n",
            "Root Mean Squared Error (RMSE): 0.046966428314190595\n"
          ]
        }
      ]
    },
    {
      "cell_type": "code",
      "source": [],
      "metadata": {
        "id": "B64VDFTPpmwi"
      },
      "execution_count": null,
      "outputs": []
    }
  ]
}