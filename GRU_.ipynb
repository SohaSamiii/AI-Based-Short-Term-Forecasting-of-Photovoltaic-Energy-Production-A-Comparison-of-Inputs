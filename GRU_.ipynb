{
  "nbformat": 4,
  "nbformat_minor": 0,
  "metadata": {
    "colab": {
      "provenance": []
    },
    "kernelspec": {
      "name": "python3",
      "display_name": "Python 3"
    },
    "language_info": {
      "name": "python"
    }
  },
  "cells": [
    {
      "cell_type": "code",
      "execution_count": null,
      "metadata": {
        "id": "bbESY7R3dy2p"
      },
      "outputs": [],
      "source": [
        "import pandas as pd"
      ]
    },
    {
      "cell_type": "code",
      "source": [
        "df = pd.read_csv('paper_data.csv')"
      ],
      "metadata": {
        "id": "5PqlL5fjd20r"
      },
      "execution_count": null,
      "outputs": []
    },
    {
      "cell_type": "code",
      "source": [
        "from sklearn.preprocessing import MinMaxScaler\n",
        "import numpy as np\n",
        "import pandas as pd\n",
        "from sklearn.model_selection import train_test_split\n",
        "from sklearn.metrics import mean_absolute_error, mean_squared_error, r2_score\n",
        "from keras.models import Sequential\n",
        "from keras.layers import GRU, Dropout, Dense\n",
        "from keras.callbacks import EarlyStopping, ReduceLROnPlateau\n",
        "\n",
        "\n",
        "scaler = MinMaxScaler()\n",
        "scaled_df = scaler.fit_transform(df[['PV generation','day_length','sunrise_seconds',\n",
        "       'sunset_seconds','hour_cos','hour_sin','solar_angle']])\n",
        "\n",
        "scaled_df = pd.DataFrame(scaled_df, columns=['PV generation','day_length','sunrise_seconds',\n",
        "       'sunset_seconds','hour_cos','hour_sin','solar_angle'])\n",
        "\n",
        "\n",
        "def create_sequences(df, seq_length):\n",
        "    sequences = []\n",
        "    labels = []\n",
        "    for i in range(len(df) - seq_length):\n",
        "        seq = df.iloc[i:i+seq_length].values\n",
        "        label = df['PV generation'].iloc[i+seq_length]\n",
        "        sequences.append(seq)\n",
        "        labels.append(label)\n",
        "    return np.array(sequences), np.array(labels)\n",
        "\n",
        "SEQ_LENGTH = 24\n",
        "sequences, labels = create_sequences(scaled_df, SEQ_LENGTH)\n",
        "\n",
        "\n",
        "X_train, X_test, y_train, y_test = train_test_split(sequences, labels, test_size=0.2, shuffle=False)\n",
        "\n",
        "\n",
        "model = Sequential([\n",
        "    GRU(100, return_sequences=True, input_shape=(SEQ_LENGTH, X_train.shape[2])),\n",
        "    Dropout(0.2),\n",
        "    GRU(100),\n",
        "    Dropout(0.2),\n",
        "    Dense(1)\n",
        "])\n",
        "\n",
        "model.compile(optimizer='adam', loss='mean_squared_error')\n",
        "\n",
        "\n",
        "early_stopping = EarlyStopping(monitor='val_loss', patience=10, restore_best_weights=True)\n",
        "reduce_lr = ReduceLROnPlateau(monitor='val_loss', factor=0.5, patience=5)\n",
        "\n",
        "\n",
        "history = model.fit(X_train, y_train, epochs=30, batch_size=32, validation_split=0.2, callbacks=[early_stopping, reduce_lr])\n",
        "\n",
        "\n",
        "predictions_test = model.predict(X_test)\n",
        "predictions_train = model.predict(X_train)\n",
        "\n",
        "\n",
        "r2_test = r2_score(y_test, predictions_test)\n",
        "mae_test = mean_absolute_error(y_test, predictions_test)\n",
        "mse_test = mean_squared_error(y_test, predictions_test)\n",
        "rmse_test = np.sqrt(mse_test)\n",
        "\n",
        "\n",
        "r2_train = r2_score(y_train, predictions_train)\n",
        "mae_train = mean_absolute_error(y_train, predictions_train)\n",
        "mse_train = mean_squared_error(y_train, predictions_train)\n",
        "rmse_train = np.sqrt(mse_train)\n",
        "\n",
        "\n",
        "print(f'--- Test Data ---')\n",
        "print(f'R² Score: {r2_test}')\n",
        "print(f'Mean Absolute Error (MAE): {mae_test}')\n",
        "print(f'Mean Squared Error (MSE): {mse_test}')\n",
        "print(f'Root Mean Squared Error (RMSE): {rmse_test}')\n",
        "\n",
        "\n",
        "print(f'--- Train Data ---')\n",
        "print(f'R² Score: {r2_train}')\n",
        "print(f'Mean Absolute Error (MAE): {mae_train}')\n",
        "print(f'Mean Squared Error (MSE): {mse_train}')\n",
        "print(f'Root Mean Squared Error (RMSE): {rmse_train}')\n"
      ],
      "metadata": {
        "colab": {
          "base_uri": "https://localhost:8080/"
        },
        "id": "PY3qWZLPeGCN",
        "outputId": "6ba12581-51af-46a7-f7b4-d08eba6caf21"
      },
      "execution_count": null,
      "outputs": [
        {
          "output_type": "stream",
          "name": "stderr",
          "text": [
            "/usr/local/lib/python3.10/dist-packages/keras/src/layers/rnn/rnn.py:204: UserWarning: Do not pass an `input_shape`/`input_dim` argument to a layer. When using Sequential models, prefer using an `Input(shape)` object as the first layer in the model instead.\n",
            "  super().__init__(**kwargs)\n"
          ]
        },
        {
          "output_type": "stream",
          "name": "stdout",
          "text": [
            "Epoch 1/30\n",
            "\u001b[1m238/238\u001b[0m \u001b[32m━━━━━━━━━━━━━━━━━━━━\u001b[0m\u001b[37m\u001b[0m \u001b[1m20s\u001b[0m 56ms/step - loss: 0.0240 - val_loss: 0.0052 - learning_rate: 0.0010\n",
            "Epoch 2/30\n",
            "\u001b[1m238/238\u001b[0m \u001b[32m━━━━━━━━━━━━━━━━━━━━\u001b[0m\u001b[37m\u001b[0m \u001b[1m13s\u001b[0m 53ms/step - loss: 0.0084 - val_loss: 0.0055 - learning_rate: 0.0010\n",
            "Epoch 3/30\n",
            "\u001b[1m238/238\u001b[0m \u001b[32m━━━━━━━━━━━━━━━━━━━━\u001b[0m\u001b[37m\u001b[0m \u001b[1m13s\u001b[0m 54ms/step - loss: 0.0069 - val_loss: 0.0043 - learning_rate: 0.0010\n",
            "Epoch 4/30\n",
            "\u001b[1m238/238\u001b[0m \u001b[32m━━━━━━━━━━━━━━━━━━━━\u001b[0m\u001b[37m\u001b[0m \u001b[1m20s\u001b[0m 52ms/step - loss: 0.0070 - val_loss: 0.0038 - learning_rate: 0.0010\n",
            "Epoch 5/30\n",
            "\u001b[1m238/238\u001b[0m \u001b[32m━━━━━━━━━━━━━━━━━━━━\u001b[0m\u001b[37m\u001b[0m \u001b[1m21s\u001b[0m 53ms/step - loss: 0.0060 - val_loss: 0.0041 - learning_rate: 0.0010\n",
            "Epoch 6/30\n",
            "\u001b[1m238/238\u001b[0m \u001b[32m━━━━━━━━━━━━━━━━━━━━\u001b[0m\u001b[37m\u001b[0m \u001b[1m20s\u001b[0m 53ms/step - loss: 0.0062 - val_loss: 0.0041 - learning_rate: 0.0010\n",
            "Epoch 7/30\n",
            "\u001b[1m238/238\u001b[0m \u001b[32m━━━━━━━━━━━━━━━━━━━━\u001b[0m\u001b[37m\u001b[0m \u001b[1m22s\u001b[0m 59ms/step - loss: 0.0061 - val_loss: 0.0048 - learning_rate: 0.0010\n",
            "Epoch 8/30\n",
            "\u001b[1m238/238\u001b[0m \u001b[32m━━━━━━━━━━━━━━━━━━━━\u001b[0m\u001b[37m\u001b[0m \u001b[1m19s\u001b[0m 54ms/step - loss: 0.0058 - val_loss: 0.0039 - learning_rate: 0.0010\n",
            "Epoch 9/30\n",
            "\u001b[1m238/238\u001b[0m \u001b[32m━━━━━━━━━━━━━━━━━━━━\u001b[0m\u001b[37m\u001b[0m \u001b[1m20s\u001b[0m 52ms/step - loss: 0.0058 - val_loss: 0.0037 - learning_rate: 0.0010\n",
            "Epoch 10/30\n",
            "\u001b[1m238/238\u001b[0m \u001b[32m━━━━━━━━━━━━━━━━━━━━\u001b[0m\u001b[37m\u001b[0m \u001b[1m12s\u001b[0m 52ms/step - loss: 0.0053 - val_loss: 0.0035 - learning_rate: 5.0000e-04\n",
            "Epoch 11/30\n",
            "\u001b[1m238/238\u001b[0m \u001b[32m━━━━━━━━━━━━━━━━━━━━\u001b[0m\u001b[37m\u001b[0m \u001b[1m21s\u001b[0m 53ms/step - loss: 0.0049 - val_loss: 0.0035 - learning_rate: 5.0000e-04\n",
            "Epoch 12/30\n",
            "\u001b[1m238/238\u001b[0m \u001b[32m━━━━━━━━━━━━━━━━━━━━\u001b[0m\u001b[37m\u001b[0m \u001b[1m20s\u001b[0m 53ms/step - loss: 0.0052 - val_loss: 0.0035 - learning_rate: 5.0000e-04\n",
            "Epoch 13/30\n",
            "\u001b[1m238/238\u001b[0m \u001b[32m━━━━━━━━━━━━━━━━━━━━\u001b[0m\u001b[37m\u001b[0m \u001b[1m13s\u001b[0m 53ms/step - loss: 0.0049 - val_loss: 0.0036 - learning_rate: 5.0000e-04\n",
            "Epoch 14/30\n",
            "\u001b[1m238/238\u001b[0m \u001b[32m━━━━━━━━━━━━━━━━━━━━\u001b[0m\u001b[37m\u001b[0m \u001b[1m20s\u001b[0m 52ms/step - loss: 0.0057 - val_loss: 0.0034 - learning_rate: 5.0000e-04\n",
            "Epoch 15/30\n",
            "\u001b[1m238/238\u001b[0m \u001b[32m━━━━━━━━━━━━━━━━━━━━\u001b[0m\u001b[37m\u001b[0m \u001b[1m21s\u001b[0m 53ms/step - loss: 0.0050 - val_loss: 0.0035 - learning_rate: 5.0000e-04\n",
            "Epoch 16/30\n",
            "\u001b[1m238/238\u001b[0m \u001b[32m━━━━━━━━━━━━━━━━━━━━\u001b[0m\u001b[37m\u001b[0m \u001b[1m21s\u001b[0m 53ms/step - loss: 0.0050 - val_loss: 0.0034 - learning_rate: 2.5000e-04\n",
            "Epoch 17/30\n",
            "\u001b[1m238/238\u001b[0m \u001b[32m━━━━━━━━━━━━━━━━━━━━\u001b[0m\u001b[37m\u001b[0m \u001b[1m12s\u001b[0m 52ms/step - loss: 0.0051 - val_loss: 0.0034 - learning_rate: 2.5000e-04\n",
            "Epoch 18/30\n",
            "\u001b[1m238/238\u001b[0m \u001b[32m━━━━━━━━━━━━━━━━━━━━\u001b[0m\u001b[37m\u001b[0m \u001b[1m21s\u001b[0m 52ms/step - loss: 0.0053 - val_loss: 0.0033 - learning_rate: 2.5000e-04\n",
            "Epoch 19/30\n",
            "\u001b[1m238/238\u001b[0m \u001b[32m━━━━━━━━━━━━━━━━━━━━\u001b[0m\u001b[37m\u001b[0m \u001b[1m21s\u001b[0m 53ms/step - loss: 0.0051 - val_loss: 0.0033 - learning_rate: 2.5000e-04\n",
            "Epoch 20/30\n",
            "\u001b[1m238/238\u001b[0m \u001b[32m━━━━━━━━━━━━━━━━━━━━\u001b[0m\u001b[37m\u001b[0m \u001b[1m22s\u001b[0m 59ms/step - loss: 0.0050 - val_loss: 0.0033 - learning_rate: 2.5000e-04\n",
            "Epoch 21/30\n",
            "\u001b[1m238/238\u001b[0m \u001b[32m━━━━━━━━━━━━━━━━━━━━\u001b[0m\u001b[37m\u001b[0m \u001b[1m20s\u001b[0m 59ms/step - loss: 0.0049 - val_loss: 0.0034 - learning_rate: 2.5000e-04\n",
            "Epoch 22/30\n",
            "\u001b[1m238/238\u001b[0m \u001b[32m━━━━━━━━━━━━━━━━━━━━\u001b[0m\u001b[37m\u001b[0m \u001b[1m18s\u001b[0m 48ms/step - loss: 0.0048 - val_loss: 0.0034 - learning_rate: 2.5000e-04\n",
            "Epoch 23/30\n",
            "\u001b[1m238/238\u001b[0m \u001b[32m━━━━━━━━━━━━━━━━━━━━\u001b[0m\u001b[37m\u001b[0m \u001b[1m13s\u001b[0m 53ms/step - loss: 0.0051 - val_loss: 0.0035 - learning_rate: 2.5000e-04\n",
            "Epoch 24/30\n",
            "\u001b[1m238/238\u001b[0m \u001b[32m━━━━━━━━━━━━━━━━━━━━\u001b[0m\u001b[37m\u001b[0m \u001b[1m21s\u001b[0m 54ms/step - loss: 0.0048 - val_loss: 0.0034 - learning_rate: 1.2500e-04\n",
            "Epoch 25/30\n",
            "\u001b[1m238/238\u001b[0m \u001b[32m━━━━━━━━━━━━━━━━━━━━\u001b[0m\u001b[37m\u001b[0m \u001b[1m19s\u001b[0m 49ms/step - loss: 0.0052 - val_loss: 0.0033 - learning_rate: 1.2500e-04\n",
            "Epoch 26/30\n",
            "\u001b[1m238/238\u001b[0m \u001b[32m━━━━━━━━━━━━━━━━━━━━\u001b[0m\u001b[37m\u001b[0m \u001b[1m12s\u001b[0m 52ms/step - loss: 0.0047 - val_loss: 0.0034 - learning_rate: 1.2500e-04\n",
            "Epoch 27/30\n",
            "\u001b[1m238/238\u001b[0m \u001b[32m━━━━━━━━━━━━━━━━━━━━\u001b[0m\u001b[37m\u001b[0m \u001b[1m21s\u001b[0m 53ms/step - loss: 0.0046 - val_loss: 0.0033 - learning_rate: 1.2500e-04\n",
            "Epoch 28/30\n",
            "\u001b[1m238/238\u001b[0m \u001b[32m━━━━━━━━━━━━━━━━━━━━\u001b[0m\u001b[37m\u001b[0m \u001b[1m20s\u001b[0m 49ms/step - loss: 0.0047 - val_loss: 0.0033 - learning_rate: 1.2500e-04\n",
            "Epoch 29/30\n",
            "\u001b[1m238/238\u001b[0m \u001b[32m━━━━━━━━━━━━━━━━━━━━\u001b[0m\u001b[37m\u001b[0m \u001b[1m21s\u001b[0m 53ms/step - loss: 0.0051 - val_loss: 0.0033 - learning_rate: 6.2500e-05\n",
            "Epoch 30/30\n",
            "\u001b[1m238/238\u001b[0m \u001b[32m━━━━━━━━━━━━━━━━━━━━\u001b[0m\u001b[37m\u001b[0m \u001b[1m20s\u001b[0m 53ms/step - loss: 0.0045 - val_loss: 0.0033 - learning_rate: 6.2500e-05\n",
            "\u001b[1m75/75\u001b[0m \u001b[32m━━━━━━━━━━━━━━━━━━━━\u001b[0m\u001b[37m\u001b[0m \u001b[1m2s\u001b[0m 24ms/step\n",
            "\u001b[1m297/297\u001b[0m \u001b[32m━━━━━━━━━━━━━━━━━━━━\u001b[0m\u001b[37m\u001b[0m \u001b[1m4s\u001b[0m 14ms/step\n",
            "--- Test Data ---\n",
            "R² Score: 0.8712015209841717\n",
            "Mean Absolute Error (MAE): 0.022252042762513045\n",
            "Mean Squared Error (MSE): 0.0023809529757731276\n",
            "Root Mean Squared Error (RMSE): 0.04879500974252519\n",
            "--- Train Data ---\n",
            "R² Score: 0.9241255941975175\n",
            "Mean Absolute Error (MAE): 0.03226232595709243\n",
            "Mean Squared Error (MSE): 0.004277484592953461\n",
            "Root Mean Squared Error (RMSE): 0.0654024815504233\n"
          ]
        }
      ]
    },
    {
      "cell_type": "code",
      "source": [],
      "metadata": {
        "id": "QghgJGHHfsxp"
      },
      "execution_count": null,
      "outputs": []
    }
  ]
}